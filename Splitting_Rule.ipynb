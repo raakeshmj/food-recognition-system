{
 "cells": [
  {
   "cell_type": "code",
   "execution_count": 3,
   "id": "02c42533-beea-46a4-b9bf-25c00eff60e6",
   "metadata": {},
   "outputs": [
    {
     "name": "stdout",
     "output_type": "stream",
     "text": [
      "Dataset split completed successfully!\n"
     ]
    }
   ],
   "source": [
    "import os\n",
    "import shutil\n",
    "import random\n",
    "\n",
    "# Define paths\n",
    "source_dir = \"/Users/raakeshmj/Downloads/archive/food-101 2/images\"  # Path to the dataset containing category folders\n",
    "dest_dir = \"/Users/raakeshmj/Programming/food-system/dataset\"  # Path to save split dataset\n",
    "\n",
    "# Define split ratio\n",
    "train_ratio = 0.8\n",
    "val_ratio = 0.1\n",
    "test_ratio = 0.1\n",
    "\n",
    "# Create train, val, and test directories\n",
    "for split in ['train', 'val', 'test']:\n",
    "    os.makedirs(os.path.join(dest_dir, split), exist_ok=True)\n",
    "\n",
    "# Iterate over each category\n",
    "for category in os.listdir(source_dir):\n",
    "    category_path = os.path.join(source_dir, category)\n",
    "    if not os.path.isdir(category_path):\n",
    "        continue\n",
    "    \n",
    "    images = os.listdir(category_path)\n",
    "    random.shuffle(images)\n",
    "    \n",
    "    train_split = int(len(images) * train_ratio)\n",
    "    val_split = int(len(images) * (train_ratio + val_ratio))\n",
    "    \n",
    "    train_images = images[:train_split]\n",
    "    val_images = images[train_split:val_split]\n",
    "    test_images = images[val_split:]\n",
    "    \n",
    "    # Create category subdirectories\n",
    "    for split in ['train', 'val', 'test']:\n",
    "        os.makedirs(os.path.join(dest_dir, split, category), exist_ok=True)\n",
    "    \n",
    "    # Move images to respective folders\n",
    "    for img in train_images:\n",
    "        shutil.copy(os.path.join(category_path, img), os.path.join(dest_dir, 'train', category, img))\n",
    "    for img in val_images:\n",
    "        shutil.copy(os.path.join(category_path, img), os.path.join(dest_dir, 'val', category, img))\n",
    "    for img in test_images:\n",
    "        shutil.copy(os.path.join(category_path, img), os.path.join(dest_dir, 'test', category, img))\n",
    "\n",
    "print(\"Dataset split completed successfully!\")\n"
   ]
  },
  {
   "cell_type": "code",
   "execution_count": null,
   "id": "36575207-8a67-4144-8b85-512617eda091",
   "metadata": {},
   "outputs": [],
   "source": []
  }
 ],
 "metadata": {
  "kernelspec": {
   "display_name": "Python (tf-metal)",
   "language": "python",
   "name": "tf-metal"
  },
  "language_info": {
   "codemirror_mode": {
    "name": "ipython",
    "version": 3
   },
   "file_extension": ".py",
   "mimetype": "text/x-python",
   "name": "python",
   "nbconvert_exporter": "python",
   "pygments_lexer": "ipython3",
   "version": "3.12.9"
  }
 },
 "nbformat": 4,
 "nbformat_minor": 5
}
